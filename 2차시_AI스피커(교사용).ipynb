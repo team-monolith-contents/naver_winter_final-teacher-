{
 "cells": [
  {
   "cell_type": "markdown",
   "id": "560abbb1-6391-4207-b965-e64274a7ba36",
   "metadata": {
    "deletable": true,
    "tags": []
   },
   "source": [
    "\n",
    "## **<STEP 1> 기본 기능 익히기**\n"
   ]
  },
  {
   "cell_type": "markdown",
   "id": "1f5e5aa1-52e6-4c9f-9f5b-76cef927f9a6",
   "metadata": {
    "deletable": true,
    "tags": []
   },
   "source": [
    "\n",
    "## 1) 입출력\n"
   ]
  },
  {
   "cell_type": "markdown",
   "id": "9d9c2264-b70d-4118-83bb-7d8f22e3814d",
   "metadata": {
    "deletable": true,
    "tags": []
   },
   "source": [
    "print() 명령어를 활용하여 원하는 문구를 출력할 수 있습니다.\n",
    "\n",
    "하단의 셀을 실행시켜 문구를 출력해봅시다."
   ]
  },
  {
   "cell_type": "code",
   "execution_count": 1,
   "id": "f25509ef-dca5-495c-9eee-d4648cf01e0d",
   "metadata": {
    "codle/previous_execution": {
     "code": "print('안녕하세요. 반갑습니다.')",
     "id": "4402275"
    },
    "tags": []
   },
   "outputs": [
    {
     "name": "stdout",
     "output_type": "stream",
     "text": [
      "안녕하세요. 반갑습니다.\n"
     ]
    }
   ],
   "source": [
    "print('안녕하세요. 반갑습니다.')"
   ]
  },
  {
   "cell_type": "markdown",
   "id": "dadd57c0-da0e-47fb-89df-ed96b64169a6",
   "metadata": {
    "deletable": true,
    "tags": []
   },
   "source": [
    "input() 명령어를 활용하여 사용자로부터 데이터를 입력받을 수도 있습니다.\n",
    "\n",
    "하단의 셀을 실행시키고 인사말을 입력해봅시다."
   ]
  },
  {
   "cell_type": "code",
   "execution_count": 3,
   "id": "53f7c3b8-913e-400f-8df3-ee0b7284b91c",
   "metadata": {
    "codle/previous_execution": {
     "code": "a = input('문구를 입력해주세요.')",
     "id": "4402370"
    },
    "tags": []
   },
   "outputs": [
    {
     "name": "stdin",
     "output_type": "stream",
     "text": [
      "문구를 입력해주세요. 안녕\n"
     ]
    }
   ],
   "source": [
    "a = input('문구를 입력해주세요.')"
   ]
  },
  {
   "cell_type": "markdown",
   "id": "238be3ea-0102-44bd-a6d0-1538a068b069",
   "metadata": {
    "deletable": true,
    "tags": []
   },
   "source": [
    "위에서 a 변수에 입력받은 문구를 출력하는 코드를 작성해봅시다.\n",
    "\n",
    "이때, 변수에 저장된 데이터를 출력하는 것이므로 ''(따옴표)를 붙이지 않도록 주의합니다."
   ]
  },
  {
   "cell_type": "code",
   "execution_count": 4,
   "id": "0b291646-7c02-43e6-8173-82c59701f0af",
   "metadata": {
    "codle/previous_execution": {
     "code": "print(a)",
     "id": "4402393"
    },
    "tags": []
   },
   "outputs": [
    {
     "name": "stdout",
     "output_type": "stream",
     "text": [
      "안녕\n"
     ]
    }
   ],
   "source": [
    "print(a)"
   ]
  },
  {
   "cell_type": "markdown",
   "id": "6b5755e7-0ce7-4870-ad9b-f7bc601a6542",
   "metadata": {
    "deletable": true,
    "tags": []
   },
   "source": [
    "\n",
    "## 2) 조건문"
   ]
  },
  {
   "cell_type": "markdown",
   "id": "4e0c9c15-923a-45e4-94af-ff2d678b1cc3",
   "metadata": {
    "deletable": true,
    "tags": []
   },
   "source": [
    "입력된 데이터에 따라 다르게 출력되도록 구현할 수 있습니다.\n",
    "\n",
    "다음 if 조건문을 실행해봅시다."
   ]
  },
  {
   "cell_type": "code",
   "execution_count": 5,
   "id": "2a233288-75f7-496b-afee-ff3aefc62159",
   "metadata": {
    "codle/previous_execution": {
     "code": "if '안녕' in a:\n    print('안녕하세요.')\nelse:\n    print('다시 입력해주세요.')",
     "id": "4402545"
    },
    "tags": []
   },
   "outputs": [
    {
     "name": "stdout",
     "output_type": "stream",
     "text": [
      "안녕하세요.\n"
     ]
    }
   ],
   "source": [
    "if '안녕' in a:\n",
    "    print('안녕하세요.')\n",
    "else:\n",
    "    print('다시 입력해주세요.')"
   ]
  },
  {
   "cell_type": "markdown",
   "id": "6d736332-40c1-4f2f-9f82-5541797bcc40",
   "metadata": {
    "deletable": true,
    "tags": []
   },
   "source": [
    "여러 조건을 동시에 만족하는 경우를 검사하는 코드도 작성할 수 있습니다.\n",
    "\n",
    "and 또는 or 를 사용해 조건을 작성해봅시다."
   ]
  },
  {
   "cell_type": "code",
   "execution_count": 6,
   "id": "ccd3a3fe-f5a1-4824-bef4-41bf0ec2a294",
   "metadata": {
    "codle/previous_execution": {
     "code": "if '안녕' in a and '하세요' in a:\n    print('안녕하세요.')\nelse:\n    print('안녕.')",
     "id": "4402671"
    },
    "tags": []
   },
   "outputs": [
    {
     "name": "stdout",
     "output_type": "stream",
     "text": [
      "안녕.\n"
     ]
    }
   ],
   "source": [
    "if '안녕' in a and '하세요' in a:\n",
    "    print('안녕하세요.')\n",
    "else:\n",
    "    print('안녕.')"
   ]
  },
  {
   "cell_type": "markdown",
   "id": "ef45bdc5-bcf1-4eb9-8bf3-8df2cb94547c",
   "metadata": {
    "deletable": true,
    "tags": []
   },
   "source": [
    "\n",
    "## 3) 음성인식\n"
   ]
  },
  {
   "cell_type": "markdown",
   "id": "75556ca7-1713-4e46-b8be-936d2747a971",
   "metadata": {
    "deletable": true,
    "tags": []
   },
   "source": [
    "speech_recognition 모듈을 사용해 음성을 입력할 수 있습니다.\n",
    "\n",
    "(클로바 노트 음성 파일 준비해두기)\n"
   ]
  },
  {
   "cell_type": "code",
   "execution_count": 1,
   "id": "98e1ad3b-4269-4fd4-a358-04f0cc7c41cd",
   "metadata": {
    "codle/previous_execution": {
     "code": "!pip install SpeechRecognition",
     "id": "4772966"
    }
   },
   "outputs": [
    {
     "name": "stdout",
     "output_type": "stream",
     "text": [
      "Defaulting to user installation because normal site-packages is not writeable\n",
      "Requirement already satisfied: SpeechRecognition in /home/jovyan/.local/lib/python3.10/site-packages (3.10.0)\n",
      "Requirement already satisfied: requests>=2.26.0 in /usr/local/lib/python3.10/site-packages (from SpeechRecognition) (2.31.0)\n",
      "Requirement already satisfied: charset-normalizer<4,>=2 in /usr/local/lib/python3.10/site-packages (from requests>=2.26.0->SpeechRecognition) (3.3.2)\n",
      "Requirement already satisfied: idna<4,>=2.5 in /usr/local/lib/python3.10/site-packages (from requests>=2.26.0->SpeechRecognition) (3.6)\n",
      "Requirement already satisfied: urllib3<3,>=1.21.1 in /usr/local/lib/python3.10/site-packages (from requests>=2.26.0->SpeechRecognition) (2.0.7)\n",
      "Requirement already satisfied: certifi>=2017.4.17 in /usr/local/lib/python3.10/site-packages (from requests>=2.26.0->SpeechRecognition) (2023.11.17)\n"
     ]
    }
   ],
   "source": [
    "!pip install SpeechRecognition"
   ]
  },
  {
   "cell_type": "code",
   "execution_count": 3,
   "id": "d20c9613-9433-4d89-a5a2-2236b1a4dc4b",
   "metadata": {
    "codle/previous_execution": {
     "code": "\nimport speech_recognition as sr              # 음성 인식 관련 명령어가 담긴 모듈\n\nchat = 'test.wav'                            # 음성 파일 경로 입력\nrecognizer = sr.Recognizer()                 # 음성 인식 객체 생성\nfile_path = chat # 음성 파일 경로\nwith sr.AudioFile(file_path) as source:\n    audio = recognizer.record(source)        \n\nprint(audio)                                 # 음성 소스 파일 녹음 후 AudioData 객체 반환",
     "id": "4773015"
    },
    "tags": []
   },
   "outputs": [
    {
     "name": "stdout",
     "output_type": "stream",
     "text": [
      "<speech_recognition.audio.AudioData object at 0x7f27e3c464d0>\n"
     ]
    }
   ],
   "source": [
    "import speech_recognition as sr              # 음성 인식 관련 명령어가 담긴 모듈\n",
    "\n",
    "chat = 'test.wav'                            # 음성 파일 경로 입력\n",
    "recognizer = sr.Recognizer()                 # 음성 인식 객체 생성\n",
    "file_path = chat # 음성 파일 경로\n",
    "with sr.AudioFile(file_path) as source:\n",
    "    audio = recognizer.record(source)        \n",
    "\n",
    "print(audio)                                 # 음성 소스 파일 녹음 후 AudioData 객체 반환"
   ]
  },
  {
   "cell_type": "markdown",
   "id": "4bd93f0c-adfe-4989-a4f7-6a8e9159ad03",
   "metadata": {
    "deletable": true,
    "tags": []
   },
   "source": [
    "AudioData의 음성 파일에서 텍스트를 인식할 수 있습니다."
   ]
  },
  {
   "cell_type": "code",
   "execution_count": 11,
   "id": "ce929028-828e-4aa8-9f78-3f4536ba1c74",
   "metadata": {
    "codle/previous_execution": {
     "code": "text = recognizer.recognize_google(audio, language='ko-KR')\nprint(text)",
     "id": "4403138"
    },
    "tags": []
   },
   "outputs": [
    {
     "name": "stdout",
     "output_type": "stream",
     "text": [
      "안녕하세요\n"
     ]
    }
   ],
   "source": [
    "text = recognizer.recognize_google(audio, language='ko-KR')\n",
    "print(text)"
   ]
  },
  {
   "cell_type": "markdown",
   "id": "c2e5b505-478b-43ea-9928-ad99ff0e42f5",
   "metadata": {
    "deletable": true,
    "tags": []
   },
   "source": [
    "\n",
    "\n",
    "## **<STEP 2> 음성 파일 불러오기**\n",
    "\n"
   ]
  },
  {
   "cell_type": "markdown",
   "id": "6f138294-b6b9-4470-8644-d0595f87db5b",
   "metadata": {
    "deletable": true,
    "tags": []
   },
   "source": [
    "1. 클로바 노트에서 음성을 녹음해봅시다."
   ]
  },
  {
   "cell_type": "markdown",
   "id": "fe337ec8-b45e-4585-a7b8-bb95d2bae914",
   "metadata": {
    "deletable": true,
    "tags": []
   },
   "source": [
    "2. wav 파일 변환 사이트를 활용해 녹음된 음성 파일의 형식을 wav로 변환합니다."
   ]
  },
  {
   "cell_type": "markdown",
   "id": "94170296-7634-48e1-902e-f81ab433e4df",
   "metadata": {
    "deletable": true,
    "tags": []
   },
   "source": [
    "3. 좌측 폴더의 '+' 버튼을 눌러, wav 파일을 업로드합니다."
   ]
  },
  {
   "cell_type": "markdown",
   "id": "d423e095-56b5-4b4f-9583-392bade56971",
   "metadata": {
    "deletable": true,
    "tags": []
   },
   "source": [
    "4. wav 파일의 이름을 나중에 봐도 알아볼 수 있게 적절한 이름으로 수정합니다."
   ]
  },
  {
   "cell_type": "markdown",
   "id": "0ae0788c-2119-43bc-afdf-a71163b0f829",
   "metadata": {
    "deletable": true,
    "tags": []
   },
   "source": [
    "5. 경로를 파일 이름으로 수정하고 다시 음성 인식 코드를 실행해봅시다."
   ]
  },
  {
   "cell_type": "code",
   "execution_count": null,
   "id": "6384b8df-1b9a-40c1-ac25-3b4c5bcb5cb6",
   "metadata": {},
   "outputs": [],
   "source": [
    "import speech_recognition as sr              # 음성 인식 관련 명령어가 담긴 모듈\n",
    "\n",
    "# 빈칸 # chat = 'test.wav'                            # 음성 파일 경로 입력\n",
    "recognizer = sr.Recognizer()                 # 음성 인식 객체 생성\n",
    "file_path = chat # 음성 파일 경로\n",
    "with sr.AudioFile(file_path) as source:\n",
    "    audio = recognizer.record(source)        \n",
    "\n",
    "text = recognizer.recognize_google(audio, language='ko-KR')\n",
    "print(text)       "
   ]
  },
  {
   "cell_type": "markdown",
   "id": "c5c47938-92d2-4e5d-82e2-60bb86f2a826",
   "metadata": {
    "deletable": true,
    "tags": []
   },
   "source": [
    "\n",
    "## **<STEP 3> 챗봇 구현하기**\n"
   ]
  },
  {
   "cell_type": "markdown",
   "id": "78899201-d115-4430-ad08-41579123ae17",
   "metadata": {
    "deletable": true,
    "tags": []
   },
   "source": [
    "**[1단계] 챗봇 인트로 작성하기**\n",
    "\n",
    "간단한 인사말과 챗봇의 기능을 소개하는 인트로를 작성해봅시다."
   ]
  },
  {
   "cell_type": "code",
   "execution_count": null,
   "id": "4450e6d9-a51d-47dc-a805-f76e9ec9982a",
   "metadata": {},
   "outputs": [],
   "source": [
    "print('무엇을 도와드릴까요?')\n",
    "print('사용 가능한 기능: 노래 추천 / 메뉴 추천 / 옷 추천') # 학습자가 기능 추가하기"
   ]
  },
  {
   "cell_type": "markdown",
   "id": "792c3461-3653-4a32-9d54-adfcefeec27b",
   "metadata": {
    "deletable": true,
    "tags": []
   },
   "source": [
    "**[2단계] 음성 파일 입력받기**\n",
    "\n",
    "챗봇에게 질문을 입력하는 코드를 작성해봅시다."
   ]
  },
  {
   "cell_type": "code",
   "execution_count": null,
   "id": "cf87a998-c664-4dd6-872d-aa7dee87a638",
   "metadata": {},
   "outputs": [],
   "source": [
    "chat = input('음성 파일의 이름을 입력해주세요. 종료를 원하시면 0을 입력해주세요.') # 입력받는 명령어"
   ]
  },
  {
   "cell_type": "markdown",
   "id": "00662a2d-3296-4084-bab6-411a357ff69f",
   "metadata": {
    "deletable": true,
    "tags": []
   },
   "source": [
    "**[3단계] 음성 인식하기**\n",
    "\n",
    "입력받은 음성 파일의 내용을 인식하고, 텍스트로 변환해봅시다."
   ]
  },
  {
   "cell_type": "code",
   "execution_count": null,
   "id": "30a0ed17-50f9-4c53-9886-d7fdfd9fd805",
   "metadata": {},
   "outputs": [],
   "source": [
    "import speech_recognition as sr              # 음성 인식 관련 명령어가 담긴 모듈\n",
    "\n",
    "# wav 파일을 로드합니다.\n",
    "recognizer = sr.Recognizer()                 # 음성 인식 객체 생성\n",
    "file_path = chat # 음성 파일 경로\n",
    "with sr.AudioFile(file_path) as source:\n",
    "    audio = recognizer.record(source)        # 음성 소스 파일 녹음 후 AudioData 객체 반환\n",
    "\n",
    "    \n",
    "text = recognizer.recognize_google(audio, language='ko-KR') # 음성 파일을 텍스트로 변환\n",
    "print(text)                                  # 텍스트를 출력\n"
   ]
  },
  {
   "cell_type": "markdown",
   "id": "efe625dc-3431-4c46-8d3b-e8559ed61f95",
   "metadata": {
    "deletable": true,
    "tags": []
   },
   "source": [
    "**[4단계] 챗봇 답변 작성하기**\n",
    "\n",
    "입력받은 내용에서 키워드를 추출하고, 질문에 대한 답변을 if문을 활용해 작서해봅시다."
   ]
  },
  {
   "cell_type": "code",
   "execution_count": null,
   "id": "f027aee9-8ed1-4119-a6ac-9bbc6acf9c92",
   "metadata": {},
   "outputs": [],
   "source": [
    "if '안녕' in text:\n",
    "    print('AI: 안녕하세요.')\n",
    "elif '반갑' in text:\n",
    "    print('AI: 반가워요.')\n",
    "elif '음악' in text and '추천' in text:\n",
    "    print('신나는 아이돌 음악을 추천해요.')\n",
    "else:\n",
    "     print('다시 입력해주세요.')"
   ]
  },
  {
   "cell_type": "markdown",
   "id": "375be3b9-0f8b-4c4b-bba5-550d80f390e8",
   "metadata": {
    "deletable": true
   },
   "source": [
    "**[5단계] 개인정보 보호하기**\n",
    "\n",
    "입력받은 내용 중 개인정보가 포함되어있는지 검사하고, 포함되어있다면 답변을 생략하는 코드를 추가로 작성해봅시다."
   ]
  },
  {
   "cell_type": "code",
   "execution_count": null,
   "id": "f9c42284-2a75-467f-8719-650e4a7a331a",
   "metadata": {},
   "outputs": [],
   "source": [
    "if '이름' in text: #챗봇 코드의 어느 부분에 들어가야 할까? 음성 인식 직후 -> 개인 정보가 입력되면 바로 보호하기 위한 목적으로\n",
    "    print('AI: 민감한 정보는 말할 수 없습니다.')"
   ]
  },
  {
   "cell_type": "markdown",
   "id": "e27d51f1-02aa-4ffb-83a1-77239715f8df",
   "metadata": {
    "deletable": true,
    "tags": []
   },
   "source": [
    "1. 내가 질문하지 않았는데도 인공지능 챗봇 또는 인공지능 스피커가 내 일상을 엿듣고, 훔쳐보고 있다면 어떻게 될까요?"
   ]
  }
 ],
 "metadata": {
  "kernelspec": {
   "display_name": "Python 3 (ipykernel)",
   "language": "python",
   "name": "python3"
  },
  "language_info": {
   "codemirror_mode": {
    "name": "ipython",
    "version": 3
   },
   "file_extension": ".py",
   "mimetype": "text/x-python",
   "name": "python",
   "nbconvert_exporter": "python",
   "pygments_lexer": "ipython3",
   "version": "3.10.13"
  },
  "read_only": false
 },
 "nbformat": 4,
 "nbformat_minor": 5
}
